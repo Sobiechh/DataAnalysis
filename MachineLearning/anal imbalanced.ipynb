{
 "cells": [
  {
   "cell_type": "code",
   "execution_count": 1,
   "metadata": {},
   "outputs": [],
   "source": [
    "import numpy as np \n",
    "import os \n",
    "import re \n",
    "import sys \n",
    "import seaborn as sns\n",
    "import pandas as pd \n",
    "import matplotlib.pyplot as plt\n",
    "\n",
    "from sklearn.model_selection import train_test_split\n",
    "from sklearn.linear_model import LogisticRegression\n",
    "from sklearn.dummy import DummyClassifier\n",
    "from sklearn.metrics import accuracy_score, f1_score, confusion_matrix, recall_score\n",
    "from sklearn.metrics import precision_score "
   ]
  },
  {
   "cell_type": "code",
   "execution_count": 18,
   "metadata": {},
   "outputs": [],
   "source": [
    "df = pd.read_csv('read_data.csv', index_col=False)"
   ]
  },
  {
   "cell_type": "code",
   "execution_count": 23,
   "metadata": {},
   "outputs": [
    {
     "name": "stderr",
     "output_type": "stream",
     "text": [
      "C:\\Users\\User\\anaconda3\\lib\\site-packages\\seaborn\\_decorators.py:43: FutureWarning: Pass the following variable as a keyword arg: x. From version 0.12, the only valid positional argument will be `data`, and passing other arguments without an explicit keyword will result in an error or misinterpretation.\n",
      "  FutureWarning\n"
     ]
    },
    {
     "data": {
      "image/png": "[encoded data removed]",
      "text/plain": [
       "<Figure size 432x288 with 1 Axes>"
      ]
     },
     "metadata": {
      "needs_background": "light"
     },
     "output_type": "display_data"
    }
   ],
   "source": [
    "df = df.fillna(0) \n",
    "\n",
    "df.head()\n",
    "\n",
    "fig, ax = plt.subplots()\n",
    "g = sns.countplot(df['Opportunity Result'], palette='viridis')\n",
    "g.set_xticklabels(['1', '0'])\n",
    "g.set_yticklabels([])\n",
    "\n",
    "#ciekawe ustawienie wartosci na wykresie\n",
    "def show_values(axs):\n",
    "    def show_plot(ax):\n",
    "        for el in ax.patches:\n",
    "            x = el.get_x() + el.get_width()/2\n",
    "            y = el.get_y() + el.get_height()/2\n",
    "            value = f\"{el.get_height()}\"\n",
    "            ax.text(x,y,value, ha=\"center\")\n",
    "    \n",
    "    if isinstance(axs, np.ndarray):\n",
    "        for idx, ax in np.ndenumerate(axs):\n",
    "            show_plot(ax)\n",
    "    else:\n",
    "        show_plot(axs)\n",
    "        \n",
    "show_values(ax)\n",
    "sns.despine(left=True, bottom=True)\n",
    "plt.title('Rozkład wyników')\n",
    "plt.ylabel('')\n",
    "plt.xlabel('')\n",
    "plt.tick_params(axis='x', which='major', labelsize=12)\n",
    "plt.show()"
   ]
  },
  {
   "cell_type": "code",
   "execution_count": 24,
   "metadata": {},
   "outputs": [
    {
     "data": {
      "text/plain": [
       "0    27585\n",
       "1     7744\n",
       "Name: Opportunity Result, dtype: int64"
      ]
     },
     "execution_count": 24,
     "metadata": {},
     "output_type": "execute_result"
    }
   ],
   "source": [
    "df['Opportunity Result'].value_counts()"
   ]
  },
  {
   "cell_type": "code",
   "execution_count": 25,
   "metadata": {},
   "outputs": [
    {
     "data": {
      "text/plain": [
       "28.073228203733912"
      ]
     },
     "execution_count": 25,
     "metadata": {},
     "output_type": "execute_result"
    }
   ],
   "source": [
    "(df.loc[df['Opportunity Result'] == 1].shape[0]/df.loc[df['Opportunity Result'] == 0].shape[0] )* 100 "
   ]
  },
  {
   "cell_type": "code",
   "execution_count": 26,
   "metadata": {},
   "outputs": [],
   "source": [
    "#train, test data\n",
    "\n",
    "from sklearn.model_selection import train_test_split"
   ]
  },
  {
   "cell_type": "code",
   "execution_count": 29,
   "metadata": {},
   "outputs": [],
   "source": [
    "cols = [col for col in df.columns if col not in ['Opportunity Number','Opportunity Result']]"
   ]
  },
  {
   "cell_type": "code",
   "execution_count": 30,
   "metadata": {},
   "outputs": [],
   "source": [
    "y = df['Opportunity Result']\n",
    "X = df[cols]\n",
    "\n",
    "from sklearn.model_selection import train_test_split\n",
    "\n",
    "X_train, X_test, y_train, y_test = train_test_split(X, y, test_size = 0.5, random_state = 27)"
   ]
  },
  {
   "cell_type": "code",
   "execution_count": 31,
   "metadata": {},
   "outputs": [],
   "source": [
    "from sklearn.dummy import DummyClassifier\n",
    "\n",
    "dummy = DummyClassifier(strategy = 'most_frequent').fit(X_train, y_train)\n",
    "dummy_pred = dummy.predict(X_test)"
   ]
  },
  {
   "cell_type": "code",
   "execution_count": 32,
   "metadata": {},
   "outputs": [
    {
     "name": "stdout",
     "output_type": "stream",
     "text": [
      "Labels predict [0]\n"
     ]
    }
   ],
   "source": [
    "print(f\"Labels predict {np.unique(dummy_pred)}\")"
   ]
  },
  {
   "cell_type": "code",
   "execution_count": 33,
   "metadata": {},
   "outputs": [
    {
     "name": "stdout",
     "output_type": "stream",
     "text": [
      "Score: 0.780922728559298\n"
     ]
    }
   ],
   "source": [
    "print(f\"Score: {accuracy_score(y_test, dummy_pred)}\")"
   ]
  },
  {
   "cell_type": "code",
   "execution_count": 35,
   "metadata": {},
   "outputs": [],
   "source": [
    "#duzy wynik\n",
    "\n",
    "#jak to wyglada dla innej metody\n",
    "\n",
    "#logistic regression"
   ]
  },
  {
   "cell_type": "code",
   "execution_count": 36,
   "metadata": {},
   "outputs": [
    {
     "data": {
      "text/plain": [
       "0.7816020379281065"
      ]
     },
     "execution_count": 36,
     "metadata": {},
     "output_type": "execute_result"
    }
   ],
   "source": [
    "logreg = LogisticRegression(solver='liblinear').fit(X_train, y_train)\n",
    "\n",
    "logreg_pred = logreg.predict(X_test)\n",
    "\n",
    "accuracy_score(y_test, logreg_pred)"
   ]
  },
  {
   "cell_type": "code",
   "execution_count": 37,
   "metadata": {},
   "outputs": [],
   "source": [
    "#również duży wynik predykcji (dla naive bayes, kneigbors to samo było(poprzedni html))"
   ]
  },
  {
   "cell_type": "code",
   "execution_count": 38,
   "metadata": {},
   "outputs": [
    {
     "data": {
      "text/html": [
       "<div>\n",
       "<style scoped>\n",
       "    .dataframe tbody tr th:only-of-type {\n",
       "        vertical-align: middle;\n",
       "    }\n",
       "\n",
       "    .dataframe tbody tr th {\n",
       "        vertical-align: top;\n",
       "    }\n",
       "\n",
       "    .dataframe thead th {\n",
       "        text-align: right;\n",
       "    }\n",
       "</style>\n",
       "<table border=\"1\" class=\"dataframe\">\n",
       "  <thead>\n",
       "    <tr style=\"text-align: right;\">\n",
       "      <th></th>\n",
       "      <th>0</th>\n",
       "    </tr>\n",
       "  </thead>\n",
       "  <tbody>\n",
       "    <tr>\n",
       "      <th>0</th>\n",
       "      <td>0</td>\n",
       "    </tr>\n",
       "    <tr>\n",
       "      <th>1</th>\n",
       "      <td>0</td>\n",
       "    </tr>\n",
       "    <tr>\n",
       "      <th>2</th>\n",
       "      <td>0</td>\n",
       "    </tr>\n",
       "    <tr>\n",
       "      <th>3</th>\n",
       "      <td>0</td>\n",
       "    </tr>\n",
       "    <tr>\n",
       "      <th>4</th>\n",
       "      <td>0</td>\n",
       "    </tr>\n",
       "  </tbody>\n",
       "</table>\n",
       "</div>"
      ],
      "text/plain": [
       "   0\n",
       "0  0\n",
       "1  0\n",
       "2  0\n",
       "3  0\n",
       "4  0"
      ]
     },
     "execution_count": 38,
     "metadata": {},
     "output_type": "execute_result"
    }
   ],
   "source": [
    "pred_score = pd.DataFrame(logreg_pred)\n",
    "pred_score.head()"
   ]
  },
  {
   "cell_type": "code",
   "execution_count": 39,
   "metadata": {},
   "outputs": [
    {
     "data": {
      "text/plain": [
       "0    17649\n",
       "1       16\n",
       "Name: 0, dtype: int64"
      ]
     },
     "execution_count": 39,
     "metadata": {},
     "output_type": "execute_result"
    }
   ],
   "source": [
    "pred_score[0].value_counts()"
   ]
  },
  {
   "cell_type": "code",
   "execution_count": null,
   "metadata": {},
   "outputs": [],
   "source": [
    "#różnica miedzy Dummy a Logistic Regresion to niecałe pół procenta na wyniku, trzeba coś z tym zrobić\n",
    "\n",
    "f1_score(y_test, logreg_pred)\n",
    "\n",
    "pd.DataFrame(confusion_matrix(y_test, logreg_pred))\n",
    "\n",
    "recall_score(y_test, logreg_pred)\n",
    "\n",
    "#możemy wywnsioskować że pomimo wyniku predykcji na poziomie 86% nie są miarodajne\n",
    "\n",
    "#Sprawdzę jak to wygląda dla poprzednich trzech metod\n",
    "\n",
    "type(logreg_pred)\n",
    "\n",
    "type(y_test)\n",
    "\n",
    "def show_scores(y_test: pd.core.series.Series, method_pred: np.ndarray, meth_name: str):\n",
    "    acc_result = accuracy_score(y_test, method_pred)\n",
    "    f1_result =  f1_score(y_test, method_pred)\n",
    "    matrix_result = pd.DataFrame(confusion_matrix(y_test, method_pred))\n",
    "    recall_result = recall_score(y_test, method_pred)\n",
    "    precision_result = precision_score(y_test, method_pred)\n",
    "    \n",
    "    print(\"-\"*100)\n",
    "    print(f\"{meth_name}\")\n",
    "    print(\"-\"*100)\n",
    "    print(f\"accuracy: {acc_result}\")\n",
    "    print(f\"f1 score: {f1_result}\")\n",
    "    print(f\"confusion matrix:\\n{matrix_result}\")\n",
    "    print(f\"recal score: {recall_result}\")\n",
    "    print(f\"precision score: {recall_result}\")\n",
    "\n",
    "from sklearn.naive_bayes import GaussianNB\n",
    "from sklearn.metrics import accuracy_score\n",
    "\n",
    "gnb = GaussianNB()\n",
    "\n",
    "gnb_pred = gnb.fit(X_train,y_train).predict(X_test)\n",
    "\n",
    "show_scores(y_test, gnb_pred, \"GaussianNB\")\n",
    "\n",
    "from sklearn.svm import LinearSVC\n",
    "\n",
    "svc_model = LinearSVC(random_state = 0)\n",
    "\n",
    "svc_pred = svc_model.fit(X_train, y_train).predict(X_test)\n",
    "\n",
    "show_scores(y_test, svc_pred, \"LinearSVC\")\n",
    "\n",
    "from sklearn.neighbors import KNeighborsClassifier\n",
    "\n",
    "KN = KNeighborsClassifier(n_neighbors = 2)\n",
    "\n",
    "kn_pred = KN.fit(X_train, y_train).predict(X_test)\n",
    "\n",
    "show_scores(y_test, kn_pred, \"KNeighborsClassifier\")"
   ]
  }
 ],
 "metadata": {
  "kernelspec": {
   "display_name": "Python 3",
   "language": "python",
   "name": "python3"
  },
  "language_info": {
   "codemirror_mode": {
    "name": "ipython",
    "version": 3
   },
   "file_extension": ".py",
   "mimetype": "text/x-python",
   "name": "python",
   "nbconvert_exporter": "python",
   "pygments_lexer": "ipython3",
   "version": "3.7.6"
  }
 },
 "nbformat": 4,
 "nbformat_minor": 4
}
